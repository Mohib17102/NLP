{
  "nbformat": 4,
  "nbformat_minor": 0,
  "metadata": {
    "colab": {
      "provenance": [],
      "gpuType": "T4"
    },
    "kernelspec": {
      "name": "python3",
      "display_name": "Python 3"
    },
    "language_info": {
      "name": "python"
    },
    "accelerator": "GPU"
  },
  "cells": [
    {
      "cell_type": "code",
      "execution_count": 1,
      "metadata": {
        "id": "4NyrS_X16oIp"
      },
      "outputs": [],
      "source": [
        "import nltk\n",
        "import spacy"
      ]
    },
    {
      "cell_type": "code",
      "source": [
        "from nltk import PorterStemmer\n",
        "stemmer=PorterStemmer()"
      ],
      "metadata": {
        "id": "0RBMtfSZ6zZT"
      },
      "execution_count": 2,
      "outputs": []
    },
    {
      "cell_type": "code",
      "source": [
        "words=[\"eating\",\"eats\",\"talking\",\"adjustable\",\"rafting\",\"meeting\",\"removing\"]\n",
        "\n",
        "for word in words:\n",
        "  print(word,\"|\",stemmer.stem(word))"
      ],
      "metadata": {
        "colab": {
          "base_uri": "https://localhost:8080/"
        },
        "id": "PssxQakv7D-J",
        "outputId": "2f11add4-9a33-4e44-85fc-205fe9fac28e"
      },
      "execution_count": 7,
      "outputs": [
        {
          "output_type": "stream",
          "name": "stdout",
          "text": [
            "eating | eat\n",
            "eats | eat\n",
            "talking | talk\n",
            "adjustable | adjust\n",
            "rafting | raft\n",
            "meeting | meet\n",
            "removing | remov\n"
          ]
        }
      ]
    },
    {
      "cell_type": "code",
      "source": [
        "text=['saying','songs','running','swimming','playing','late','ate']\n",
        "from nltk import PorterStemmer\n",
        "stem=PorterStemmer()\n",
        "\n",
        "for txt in text:\n",
        "  print(txt,\"|\",stem.stem(txt))"
      ],
      "metadata": {
        "colab": {
          "base_uri": "https://localhost:8080/"
        },
        "id": "t1lF4e-h7Rjx",
        "outputId": "39125738-3dfa-4f33-cd88-97cdcd669263"
      },
      "execution_count": 10,
      "outputs": [
        {
          "output_type": "stream",
          "name": "stdout",
          "text": [
            "saying | say\n",
            "songs | song\n",
            "running | run\n",
            "swimming | swim\n",
            "playing | play\n",
            "late | late\n",
            "ate | ate\n"
          ]
        }
      ]
    },
    {
      "cell_type": "code",
      "source": [
        "#lemmatization\n",
        "\n",
        "\n",
        "nlp=spacy.load(\"en_core_web_sm\")\n",
        "\n",
        "doc=nlp(\"eating ate adjustable ability\")\n",
        "\n",
        "for token in doc:\n",
        "  print(token,\"|\",token.lemma_)"
      ],
      "metadata": {
        "colab": {
          "base_uri": "https://localhost:8080/"
        },
        "id": "jWTmwxlr80vE",
        "outputId": "3660424a-a494-41f7-c42d-83a2eec7e072"
      },
      "execution_count": 13,
      "outputs": [
        {
          "output_type": "stream",
          "name": "stdout",
          "text": [
            "eating | eat\n",
            "ate | eat\n",
            "adjustable | adjustable\n",
            "ability | ability\n"
          ]
        }
      ]
    },
    {
      "cell_type": "code",
      "source": [
        "dc=nlp(\"one day i didn't want to playing the match with his friends \")\n",
        "for token in dc:\n",
        "  print(token,\"|\",token.lemma_)"
      ],
      "metadata": {
        "colab": {
          "base_uri": "https://localhost:8080/"
        },
        "id": "RtaMPdmN93nx",
        "outputId": "bd53a1bf-0b8f-48b0-b8fb-f3f7b00b575c"
      },
      "execution_count": 18,
      "outputs": [
        {
          "output_type": "stream",
          "name": "stdout",
          "text": [
            "one | one\n",
            "day | day\n",
            "i | I\n",
            "did | do\n",
            "n't | not\n",
            "want | want\n",
            "to | to\n",
            "playing | play\n",
            "the | the\n",
            "match | match\n",
            "with | with\n",
            "his | his\n",
            "friends | friend\n"
          ]
        }
      ]
    },
    {
      "cell_type": "code",
      "source": [
        "doc=nlp(\"i want to playing with all quality example  good better best\")\n",
        "for dd in doc:\n",
        "  print(dd,\"|\",dd.lemma_,\"|\",dd.lemma)"
      ],
      "metadata": {
        "colab": {
          "base_uri": "https://localhost:8080/"
        },
        "id": "QENSMl-s-bJ_",
        "outputId": "8a12c7f3-1d75-4130-f5ea-08b3222fc09b"
      },
      "execution_count": 24,
      "outputs": [
        {
          "output_type": "stream",
          "name": "stdout",
          "text": [
            "i | I | 4690420944186131903\n",
            "want | want | 7597692042947428029\n",
            "to | to | 3791531372978436496\n",
            "playing | play | 8228585124152053988\n",
            "with | with | 12510949447758279278\n",
            "all | all | 13409319323822384369\n",
            "quality | quality | 8617680374120575546\n",
            "example | example | 899618643364689362\n",
            "  |   | 8532415787641010193\n",
            "good | good | 5711639017775284443\n",
            "better | well | 4525988469032889948\n",
            "best | well | 4525988469032889948\n"
          ]
        }
      ]
    },
    {
      "cell_type": "code",
      "source": [
        "# customizig lemmatizer\n",
        "\n",
        "\n",
        "\n",
        "nlp.pipe_names"
      ],
      "metadata": {
        "colab": {
          "base_uri": "https://localhost:8080/"
        },
        "id": "wRpG7irv_Wy0",
        "outputId": "0c8bedab-1729-4060-efdf-0c17dd7d82b4"
      },
      "execution_count": 27,
      "outputs": [
        {
          "output_type": "execute_result",
          "data": {
            "text/plain": [
              "['tok2vec', 'tagger', 'parser', 'attribute_ruler', 'lemmatizer', 'ner']"
            ]
          },
          "metadata": {},
          "execution_count": 27
        }
      ]
    },
    {
      "cell_type": "code",
      "source": [
        "docc=nlp(\"bro do you want money \")\n",
        "for token in docc:\n",
        "  print(token,\"|\",token.lemma_)"
      ],
      "metadata": {
        "colab": {
          "base_uri": "https://localhost:8080/"
        },
        "id": "lsmX0G9AAIWI",
        "outputId": "a5db5492-0977-4430-a40f-fd89377da0ee"
      },
      "execution_count": 30,
      "outputs": [
        {
          "output_type": "stream",
          "name": "stdout",
          "text": [
            "bro | bro\n",
            "do | do\n",
            "you | you\n",
            "want | want\n",
            "money | money\n"
          ]
        }
      ]
    },
    {
      "cell_type": "code",
      "source": [
        "attribute=nlp.get_pipe('attribute_ruler')\n",
        "attribute.add([[{\"TEXT\":\"bro\"}],[{\"TEXT\":\"bro\"}]],{\"LEMMA\":\"Brother\"})\n",
        "docc=nlp(\"bro do you want money \")\n",
        "for tok in docc:\n",
        "  print(tok,\"|\",tok.lemma_)"
      ],
      "metadata": {
        "colab": {
          "base_uri": "https://localhost:8080/"
        },
        "id": "Du4XoQ2yAdkF",
        "outputId": "6e5ed88c-6e4a-4e03-940a-35acb32402a1"
      },
      "execution_count": 33,
      "outputs": [
        {
          "output_type": "stream",
          "name": "stdout",
          "text": [
            "bro | Brother\n",
            "do | do\n",
            "you | you\n",
            "want | want\n",
            "money | money\n"
          ]
        }
      ]
    },
    {
      "cell_type": "code",
      "source": [],
      "metadata": {
        "id": "TSsE5cazBpd0"
      },
      "execution_count": null,
      "outputs": []
    }
  ]
}