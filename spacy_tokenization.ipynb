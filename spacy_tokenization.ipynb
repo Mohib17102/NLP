{
  "nbformat": 4,
  "nbformat_minor": 0,
  "metadata": {
    "colab": {
      "provenance": [],
      "gpuType": "T4"
    },
    "kernelspec": {
      "name": "python3",
      "display_name": "Python 3"
    },
    "language_info": {
      "name": "python"
    },
    "accelerator": "GPU"
  },
  "cells": [
    {
      "cell_type": "code",
      "execution_count": 4,
      "metadata": {
        "id": "NXI5WMZcKXOr"
      },
      "outputs": [],
      "source": [
        "import spacy\n",
        "import nltk"
      ]
    },
    {
      "cell_type": "code",
      "source": [
        "space=spacy.load('en_core_web_sm')\n"
      ],
      "metadata": {
        "id": "tvzda-r6UVzb"
      },
      "execution_count": null,
      "outputs": []
    },
    {
      "cell_type": "code",
      "source": [
        "doc=space(\"DR. basit is strange love his patient. and the other not do that\")\n",
        "for sent in doc.sents:\n",
        "  print(sent)"
      ],
      "metadata": {
        "id": "gFF4ePavUxoU",
        "colab": {
          "base_uri": "https://localhost:8080/"
        },
        "outputId": "dab16816-13f0-4802-8ef8-c74490f3a8a3"
      },
      "execution_count": null,
      "outputs": [
        {
          "output_type": "stream",
          "name": "stdout",
          "text": [
            "DR. basit is strange love his patient.\n",
            "and the other not do that\n"
          ]
        }
      ]
    },
    {
      "cell_type": "code",
      "source": [
        "text=\"i love the spacy. its an amazing tool for nlp\"\n",
        "doc=space(text)\n",
        "doc"
      ],
      "metadata": {
        "colab": {
          "base_uri": "https://localhost:8080/"
        },
        "id": "MP_h1XGZU7dH",
        "outputId": "19fa2257-e9d3-4d37-d192-fd1d069bda14"
      },
      "execution_count": null,
      "outputs": [
        {
          "output_type": "execute_result",
          "data": {
            "text/plain": [
              "i love the spacy. its an amazing tool for nlp"
            ]
          },
          "metadata": {},
          "execution_count": 8
        }
      ]
    },
    {
      "cell_type": "code",
      "source": [
        "sen=spacy.blank('en')"
      ],
      "metadata": {
        "id": "VKRy0pTRVCw2"
      },
      "execution_count": 3,
      "outputs": []
    },
    {
      "cell_type": "code",
      "source": [
        "doc=sen(\"Mr.ali is  the great  man . He love his family and spent 5$ per dinner.\")\n",
        "for token in doc:\n",
        "  print(token)"
      ],
      "metadata": {
        "colab": {
          "base_uri": "https://localhost:8080/"
        },
        "id": "NikgBBUCi3oB",
        "outputId": "ffc718f9-e017-4f97-effc-61b6f7d0757b"
      },
      "execution_count": 8,
      "outputs": [
        {
          "output_type": "stream",
          "name": "stdout",
          "text": [
            "Mr.ali\n",
            "is\n",
            " \n",
            "the\n",
            "great\n",
            " \n",
            "man\n",
            ".\n",
            "He\n",
            "love\n",
            "his\n",
            "family\n",
            "and\n",
            "spent\n",
            "5\n",
            "$\n",
            "per\n",
            "dinner\n",
            ".\n"
          ]
        }
      ]
    },
    {
      "cell_type": "code",
      "source": [
        "print(doc[0])\n",
        "print(doc[1:])\n",
        "print(doc[:-4])\n"
      ],
      "metadata": {
        "colab": {
          "base_uri": "https://localhost:8080/"
        },
        "id": "SngOMJxIjRhO",
        "outputId": "9e89c0c2-bfcd-4b92-eb91-1023bc95a02b"
      },
      "execution_count": 14,
      "outputs": [
        {
          "output_type": "stream",
          "name": "stdout",
          "text": [
            "Mr.ali\n",
            "is  the great  man . He love his family and spent 5$ per dinner.\n",
            "Mr.ali is  the great  man . He love his family and spent 5\n"
          ]
        }
      ]
    },
    {
      "cell_type": "code",
      "source": [
        "tok=doc[0]\n",
        "tok.text"
      ],
      "metadata": {
        "colab": {
          "base_uri": "https://localhost:8080/",
          "height": 35
        },
        "id": "ybCbFbrFjtac",
        "outputId": "97bda473-c6ab-41a9-a55b-7ea9e94f8fcd"
      },
      "execution_count": 16,
      "outputs": [
        {
          "output_type": "execute_result",
          "data": {
            "text/plain": [
              "'Mr.ali'"
            ],
            "application/vnd.google.colaboratory.intrinsic+json": {
              "type": "string"
            }
          },
          "metadata": {},
          "execution_count": 16
        }
      ]
    },
    {
      "cell_type": "code",
      "source": [
        "tok=doc[1:4]\n",
        "tok.text"
      ],
      "metadata": {
        "colab": {
          "base_uri": "https://localhost:8080/",
          "height": 35
        },
        "id": "z8RNK9WukTwd",
        "outputId": "941f0166-b11e-4c82-a771-c9d316149175"
      },
      "execution_count": 20,
      "outputs": [
        {
          "output_type": "execute_result",
          "data": {
            "text/plain": [
              "'is  the'"
            ],
            "application/vnd.google.colaboratory.intrinsic+json": {
              "type": "string"
            }
          },
          "metadata": {},
          "execution_count": 20
        }
      ]
    },
    {
      "cell_type": "code",
      "source": [
        "dir(token)"
      ],
      "metadata": {
        "colab": {
          "base_uri": "https://localhost:8080/"
        },
        "id": "j_qNkdWtkeaC",
        "outputId": "4a556649-41f7-4930-c05a-25cc3c4b6cc8"
      },
      "execution_count": 21,
      "outputs": [
        {
          "output_type": "execute_result",
          "data": {
            "text/plain": [
              "['_',\n",
              " '__bytes__',\n",
              " '__class__',\n",
              " '__delattr__',\n",
              " '__dir__',\n",
              " '__doc__',\n",
              " '__eq__',\n",
              " '__format__',\n",
              " '__ge__',\n",
              " '__getattribute__',\n",
              " '__gt__',\n",
              " '__hash__',\n",
              " '__init__',\n",
              " '__init_subclass__',\n",
              " '__le__',\n",
              " '__len__',\n",
              " '__lt__',\n",
              " '__ne__',\n",
              " '__new__',\n",
              " '__pyx_vtable__',\n",
              " '__reduce__',\n",
              " '__reduce_ex__',\n",
              " '__repr__',\n",
              " '__setattr__',\n",
              " '__sizeof__',\n",
              " '__str__',\n",
              " '__subclasshook__',\n",
              " '__unicode__',\n",
              " 'ancestors',\n",
              " 'check_flag',\n",
              " 'children',\n",
              " 'cluster',\n",
              " 'conjuncts',\n",
              " 'dep',\n",
              " 'dep_',\n",
              " 'doc',\n",
              " 'ent_id',\n",
              " 'ent_id_',\n",
              " 'ent_iob',\n",
              " 'ent_iob_',\n",
              " 'ent_kb_id',\n",
              " 'ent_kb_id_',\n",
              " 'ent_type',\n",
              " 'ent_type_',\n",
              " 'get_extension',\n",
              " 'has_dep',\n",
              " 'has_extension',\n",
              " 'has_head',\n",
              " 'has_morph',\n",
              " 'has_vector',\n",
              " 'head',\n",
              " 'i',\n",
              " 'idx',\n",
              " 'iob_strings',\n",
              " 'is_alpha',\n",
              " 'is_ancestor',\n",
              " 'is_ascii',\n",
              " 'is_bracket',\n",
              " 'is_currency',\n",
              " 'is_digit',\n",
              " 'is_left_punct',\n",
              " 'is_lower',\n",
              " 'is_oov',\n",
              " 'is_punct',\n",
              " 'is_quote',\n",
              " 'is_right_punct',\n",
              " 'is_sent_end',\n",
              " 'is_sent_start',\n",
              " 'is_space',\n",
              " 'is_stop',\n",
              " 'is_title',\n",
              " 'is_upper',\n",
              " 'lang',\n",
              " 'lang_',\n",
              " 'left_edge',\n",
              " 'lefts',\n",
              " 'lemma',\n",
              " 'lemma_',\n",
              " 'lex',\n",
              " 'lex_id',\n",
              " 'like_email',\n",
              " 'like_num',\n",
              " 'like_url',\n",
              " 'lower',\n",
              " 'lower_',\n",
              " 'morph',\n",
              " 'n_lefts',\n",
              " 'n_rights',\n",
              " 'nbor',\n",
              " 'norm',\n",
              " 'norm_',\n",
              " 'orth',\n",
              " 'orth_',\n",
              " 'pos',\n",
              " 'pos_',\n",
              " 'prefix',\n",
              " 'prefix_',\n",
              " 'prob',\n",
              " 'rank',\n",
              " 'remove_extension',\n",
              " 'right_edge',\n",
              " 'rights',\n",
              " 'sent',\n",
              " 'sent_start',\n",
              " 'sentiment',\n",
              " 'set_extension',\n",
              " 'set_morph',\n",
              " 'shape',\n",
              " 'shape_',\n",
              " 'similarity',\n",
              " 'subtree',\n",
              " 'suffix',\n",
              " 'suffix_',\n",
              " 'tag',\n",
              " 'tag_',\n",
              " 'tensor',\n",
              " 'text',\n",
              " 'text_with_ws',\n",
              " 'vector',\n",
              " 'vector_norm',\n",
              " 'vocab',\n",
              " 'whitespace_']"
            ]
          },
          "metadata": {},
          "execution_count": 21
        }
      ]
    },
    {
      "cell_type": "code",
      "source": [
        "type(sen)"
      ],
      "metadata": {
        "colab": {
          "base_uri": "https://localhost:8080/",
          "height": 204
        },
        "id": "BVdeG-v0mmCB",
        "outputId": "fcef819b-52f8-47a6-df0b-7428402e022b"
      },
      "execution_count": 22,
      "outputs": [
        {
          "output_type": "execute_result",
          "data": {
            "text/plain": [
              "spacy.lang.en.English"
            ],
            "text/html": [
              "<div style=\"max-width:800px; border: 1px solid var(--colab-border-color);\"><style>\n",
              "      pre.function-repr-contents {\n",
              "        overflow-x: auto;\n",
              "        padding: 8px 12px;\n",
              "        max-height: 500px;\n",
              "      }\n",
              "\n",
              "      pre.function-repr-contents.function-repr-contents-collapsed {\n",
              "        cursor: pointer;\n",
              "        max-height: 100px;\n",
              "      }\n",
              "    </style>\n",
              "    <pre style=\"white-space: initial; background:\n",
              "         var(--colab-secondary-surface-color); padding: 8px 12px;\n",
              "         border-bottom: 1px solid var(--colab-border-color);\"><b>spacy.lang.en.English</b><br/>def __call__(text: Union[str, Doc], *, disable: Iterable[str]=SimpleFrozenList(), component_cfg: Optional[Dict[str, Dict[str, Any]]]=None) -&gt; Doc</pre><pre class=\"function-repr-contents function-repr-contents-collapsed\" style=\"\"><a class=\"filepath\" style=\"display:none\" href=\"#\">/usr/local/lib/python3.10/dist-packages/spacy/lang/en/__init__.py</a>A text-processing pipeline. Usually you&#x27;ll load this once per process,\n",
              "and pass the instance around your application.\n",
              "\n",
              "Defaults (class): Settings, data and factory methods for creating the `nlp`\n",
              "    object and processing pipeline.\n",
              "lang (str): IETF language code, such as &#x27;en&#x27;.\n",
              "\n",
              "DOCS: https://spacy.io/api/language</pre>\n",
              "      <script>\n",
              "      if (google.colab.kernel.accessAllowed && google.colab.files && google.colab.files.view) {\n",
              "        for (const element of document.querySelectorAll('.filepath')) {\n",
              "          element.style.display = 'block'\n",
              "          element.onclick = (event) => {\n",
              "            event.preventDefault();\n",
              "            event.stopPropagation();\n",
              "            google.colab.files.view(element.textContent, 22);\n",
              "          };\n",
              "        }\n",
              "      }\n",
              "      for (const element of document.querySelectorAll('.function-repr-contents')) {\n",
              "        element.onclick = (event) => {\n",
              "          event.preventDefault();\n",
              "          event.stopPropagation();\n",
              "          element.classList.toggle('function-repr-contents-collapsed');\n",
              "        };\n",
              "      }\n",
              "      </script>\n",
              "      </div>"
            ]
          },
          "metadata": {},
          "execution_count": 22
        }
      ]
    },
    {
      "cell_type": "code",
      "source": [
        "type(doc)"
      ],
      "metadata": {
        "colab": {
          "base_uri": "https://localhost:8080/"
        },
        "id": "r10I174Rmtvf",
        "outputId": "8c07ab4f-6627-4720-9677-db601308aeb6"
      },
      "execution_count": 23,
      "outputs": [
        {
          "output_type": "execute_result",
          "data": {
            "text/plain": [
              "spacy.tokens.doc.Doc"
            ]
          },
          "metadata": {},
          "execution_count": 23
        }
      ]
    },
    {
      "cell_type": "code",
      "source": [
        "type(token)"
      ],
      "metadata": {
        "colab": {
          "base_uri": "https://localhost:8080/"
        },
        "id": "ZJnbPJtQm0KT",
        "outputId": "61f00c73-044b-4143-98de-8e9284ec6855"
      },
      "execution_count": 24,
      "outputs": [
        {
          "output_type": "execute_result",
          "data": {
            "text/plain": [
              "spacy.tokens.token.Token"
            ]
          },
          "metadata": {},
          "execution_count": 24
        }
      ]
    },
    {
      "cell_type": "code",
      "source": [
        "sen.pipe_names"
      ],
      "metadata": {
        "colab": {
          "base_uri": "https://localhost:8080/"
        },
        "id": "vqkK6wQ1m2fS",
        "outputId": "fd65c3db-89cd-4e10-f4e4-5b0cffa0d961"
      },
      "execution_count": 26,
      "outputs": [
        {
          "output_type": "execute_result",
          "data": {
            "text/plain": [
              "[]"
            ]
          },
          "metadata": {},
          "execution_count": 26
        }
      ]
    },
    {
      "cell_type": "code",
      "source": [
        "# span object"
      ],
      "metadata": {
        "id": "JQCWckmAm-01"
      },
      "execution_count": 27,
      "outputs": []
    },
    {
      "cell_type": "code",
      "source": [
        "span=doc[0:5]\n",
        "span"
      ],
      "metadata": {
        "colab": {
          "base_uri": "https://localhost:8080/"
        },
        "id": "xzZhCYc4nK4-",
        "outputId": "5eefe85f-8380-4e0f-b347-a277499ffa51"
      },
      "execution_count": 29,
      "outputs": [
        {
          "output_type": "execute_result",
          "data": {
            "text/plain": [
              "Mr.ali is  the great"
            ]
          },
          "metadata": {},
          "execution_count": 29
        }
      ]
    },
    {
      "cell_type": "code",
      "source": [
        "type(span)"
      ],
      "metadata": {
        "colab": {
          "base_uri": "https://localhost:8080/"
        },
        "id": "6o1QobZonQZg",
        "outputId": "0be9957d-9e9b-4a4c-d6b0-2ad00f871a9b"
      },
      "execution_count": 30,
      "outputs": [
        {
          "output_type": "execute_result",
          "data": {
            "text/plain": [
              "spacy.tokens.span.Span"
            ]
          },
          "metadata": {},
          "execution_count": 30
        }
      ]
    },
    {
      "cell_type": "code",
      "source": [
        "# token attributes\n",
        "doc1=sen(\"saad gave me ten $ per letter\")"
      ],
      "metadata": {
        "id": "geAxEvrFnZBq"
      },
      "execution_count": 33,
      "outputs": []
    },
    {
      "cell_type": "code",
      "source": [
        "type(doc1)"
      ],
      "metadata": {
        "colab": {
          "base_uri": "https://localhost:8080/"
        },
        "id": "J75ThL6vn1bb",
        "outputId": "5200cadb-3190-4f90-9043-a0aeae393bef"
      },
      "execution_count": 34,
      "outputs": [
        {
          "output_type": "execute_result",
          "data": {
            "text/plain": [
              "spacy.tokens.doc.Doc"
            ]
          },
          "metadata": {},
          "execution_count": 34
        }
      ]
    },
    {
      "cell_type": "code",
      "source": [
        "token0=sen(doc1)\n",
        "token0"
      ],
      "metadata": {
        "colab": {
          "base_uri": "https://localhost:8080/"
        },
        "id": "-0AU1jYTn3Vn",
        "outputId": "e1eba329-ac54-4742-e502-01f5ec40881c"
      },
      "execution_count": 36,
      "outputs": [
        {
          "output_type": "execute_result",
          "data": {
            "text/plain": [
              "saad gave me ten $ per letter"
            ]
          },
          "metadata": {},
          "execution_count": 36
        }
      ]
    },
    {
      "cell_type": "code",
      "source": [
        "toke=doc1[0]\n",
        "toke"
      ],
      "metadata": {
        "colab": {
          "base_uri": "https://localhost:8080/"
        },
        "id": "KWzYZztKoCOe",
        "outputId": "335a21ae-10e6-40c1-8e8d-3624de5cad49"
      },
      "execution_count": 41,
      "outputs": [
        {
          "output_type": "execute_result",
          "data": {
            "text/plain": [
              "saad"
            ]
          },
          "metadata": {},
          "execution_count": 41
        }
      ]
    },
    {
      "cell_type": "code",
      "source": [
        "for dc in doc1:\n",
        "  if dc.is_alpha:\n",
        "    print(dc)"
      ],
      "metadata": {
        "colab": {
          "base_uri": "https://localhost:8080/"
        },
        "id": "2-o3UxPqoMLD",
        "outputId": "ed1ccfa1-f8d4-4526-b32b-c6a95f68fe1c"
      },
      "execution_count": 46,
      "outputs": [
        {
          "output_type": "stream",
          "name": "stdout",
          "text": [
            "saad\n",
            "gave\n",
            "me\n",
            "ten\n",
            "per\n",
            "letter\n"
          ]
        }
      ]
    },
    {
      "cell_type": "code",
      "source": [
        "nlp1=spacy.load('en_core_web_sm')"
      ],
      "metadata": {
        "colab": {
          "base_uri": "https://localhost:8080/"
        },
        "id": "YR_aEkmdozbc",
        "outputId": "cc10f528-c7ce-4f84-a57e-3ce77c00167e"
      },
      "execution_count": 52,
      "outputs": [
        {
          "output_type": "stream",
          "name": "stderr",
          "text": [
            "/usr/local/lib/python3.10/dist-packages/spacy/util.py:1740: UserWarning: [W111] Jupyter notebook detected: if using `prefer_gpu()` or `require_gpu()`, include it in the same cell right before `spacy.load()` to ensure that the model is loaded on the correct device. More information: http://spacy.io/usage/v3#jupyter-notebook-gpu\n",
            "  warnings.warn(Warnings.W111)\n"
          ]
        }
      ]
    },
    {
      "cell_type": "code",
      "source": [
        "nlp1"
      ],
      "metadata": {
        "colab": {
          "base_uri": "https://localhost:8080/"
        },
        "id": "51LxciYbqxYN",
        "outputId": "855f1e13-a892-4068-cfee-5716bdc9792f"
      },
      "execution_count": 53,
      "outputs": [
        {
          "output_type": "execute_result",
          "data": {
            "text/plain": [
              "<spacy.lang.en.English at 0x7c251c9abee0>"
            ]
          },
          "metadata": {},
          "execution_count": 53
        }
      ]
    },
    {
      "cell_type": "code",
      "source": [
        "sentence=(\"the price is 5000 $ visit https://www.price.com\")\n",
        "docc=nlp1(sentence)\n",
        "type(docc)"
      ],
      "metadata": {
        "colab": {
          "base_uri": "https://localhost:8080/"
        },
        "id": "qOBGc71XsFwr",
        "outputId": "001ad9c2-7101-4efc-b482-3d25a70f3c41"
      },
      "execution_count": 86,
      "outputs": [
        {
          "output_type": "execute_result",
          "data": {
            "text/plain": [
              "spacy.tokens.doc.Doc"
            ]
          },
          "metadata": {},
          "execution_count": 86
        }
      ]
    },
    {
      "cell_type": "code",
      "source": [
        "token1=docc[4]\n",
        "token1"
      ],
      "metadata": {
        "colab": {
          "base_uri": "https://localhost:8080/"
        },
        "id": "NXyAqv2psXcx",
        "outputId": "c7e3cbff-394f-4f5c-dcf7-50e30f94c43d"
      },
      "execution_count": 87,
      "outputs": [
        {
          "output_type": "execute_result",
          "data": {
            "text/plain": [
              "$"
            ]
          },
          "metadata": {},
          "execution_count": 87
        }
      ]
    },
    {
      "cell_type": "code",
      "source": [
        "num=token1.like_num\n",
        "email=token1.like_email\n",
        "url=token1.like_url"
      ],
      "metadata": {
        "id": "EJ1s4zy-s2EP"
      },
      "execution_count": 88,
      "outputs": []
    },
    {
      "cell_type": "code",
      "source": [
        "\n",
        "print(num,email,url)"
      ],
      "metadata": {
        "colab": {
          "base_uri": "https://localhost:8080/"
        },
        "id": "Wq8ds6J0tV-f",
        "outputId": "253962c9-186b-4e28-8d23-b56b0acf00c9"
      },
      "execution_count": 89,
      "outputs": [
        {
          "output_type": "stream",
          "name": "stdout",
          "text": [
            "False False False\n"
          ]
        }
      ]
    },
    {
      "cell_type": "code",
      "source": [
        "\n",
        "num_token=len(docc)\n",
        "num_token\n"
      ],
      "metadata": {
        "colab": {
          "base_uri": "https://localhost:8080/"
        },
        "id": "xpkwHTrEt8T1",
        "outputId": "98dfaf57-9c90-480b-b614-b7886b04e2a9"
      },
      "execution_count": 90,
      "outputs": [
        {
          "output_type": "execute_result",
          "data": {
            "text/plain": [
              "7"
            ]
          },
          "metadata": {},
          "execution_count": 90
        }
      ]
    },
    {
      "cell_type": "code",
      "source": [
        "index_url = None\n",
        "index_price = None\n",
        "\n",
        "for token in docc:\n",
        "    if token.like_url:\n",
        "        index_url = token.i\n",
        "    elif token.text.lower() == 'price':\n",
        "        index_price = token.i\n",
        "\n",
        "print(\"Index of 'price':\", index_price)\n",
        "print(\"Index of URL:\", index_url)"
      ],
      "metadata": {
        "colab": {
          "base_uri": "https://localhost:8080/"
        },
        "id": "hjKe0MXauJsS",
        "outputId": "2bfe8ea9-5548-45e9-929c-75967fc19ac7"
      },
      "execution_count": 91,
      "outputs": [
        {
          "output_type": "stream",
          "name": "stdout",
          "text": [
            "Index of 'price': 1\n",
            "Index of URL: 6\n"
          ]
        }
      ]
    },
    {
      "cell_type": "code",
      "source": [
        "token1=docc[3]\n",
        "token1"
      ],
      "metadata": {
        "colab": {
          "base_uri": "https://localhost:8080/"
        },
        "id": "E5DAaEolu2DI",
        "outputId": "c283dc48-2367-4b6e-f02e-d6fe03cf48b5"
      },
      "execution_count": 92,
      "outputs": [
        {
          "output_type": "execute_result",
          "data": {
            "text/plain": [
              "5000"
            ]
          },
          "metadata": {},
          "execution_count": 92
        }
      ]
    },
    {
      "cell_type": "code",
      "source": [
        "token1.is_alpha"
      ],
      "metadata": {
        "colab": {
          "base_uri": "https://localhost:8080/"
        },
        "id": "4qsQvYLixeJ_",
        "outputId": "07f743dd-788e-40d9-b033-aebb4af429fe"
      },
      "execution_count": 93,
      "outputs": [
        {
          "output_type": "execute_result",
          "data": {
            "text/plain": [
              "False"
            ]
          },
          "metadata": {},
          "execution_count": 93
        }
      ]
    },
    {
      "cell_type": "code",
      "source": [
        "token1.is_currency"
      ],
      "metadata": {
        "colab": {
          "base_uri": "https://localhost:8080/"
        },
        "id": "EQ_2hUazxtQ5",
        "outputId": "d7fe6203-3646-41a1-f76b-0e82c22ae023"
      },
      "execution_count": 95,
      "outputs": [
        {
          "output_type": "execute_result",
          "data": {
            "text/plain": [
              "False"
            ]
          },
          "metadata": {},
          "execution_count": 95
        }
      ]
    },
    {
      "cell_type": "code",
      "source": [
        "token1.like_num"
      ],
      "metadata": {
        "colab": {
          "base_uri": "https://localhost:8080/"
        },
        "id": "bJ3-LkGSx10P",
        "outputId": "976df1ab-4461-481d-9447-84c9dd67554e"
      },
      "execution_count": 96,
      "outputs": [
        {
          "output_type": "execute_result",
          "data": {
            "text/plain": [
              "True"
            ]
          },
          "metadata": {},
          "execution_count": 96
        }
      ]
    },
    {
      "cell_type": "code",
      "source": [
        "token2=docc[4]\n",
        "token2"
      ],
      "metadata": {
        "colab": {
          "base_uri": "https://localhost:8080/"
        },
        "id": "i_c6AO39yNlH",
        "outputId": "cd6f3efe-5abc-4afd-f445-3b2fbd3a761a"
      },
      "execution_count": 98,
      "outputs": [
        {
          "output_type": "execute_result",
          "data": {
            "text/plain": [
              "$"
            ]
          },
          "metadata": {},
          "execution_count": 98
        }
      ]
    },
    {
      "cell_type": "code",
      "source": [
        "token2.is_currency"
      ],
      "metadata": {
        "colab": {
          "base_uri": "https://localhost:8080/"
        },
        "id": "w3XyA8OnyXQc",
        "outputId": "b962f3f8-928e-4664-be4d-7fc6fbf46d79"
      },
      "execution_count": 99,
      "outputs": [
        {
          "output_type": "execute_result",
          "data": {
            "text/plain": [
              "True"
            ]
          },
          "metadata": {},
          "execution_count": 99
        }
      ]
    },
    {
      "cell_type": "code",
      "source": [
        "for token in docc:\n",
        "  print(token,\"==>\",token.i,\"is_alpht:\",token.is_alpha,\n",
        "        \"is_punct:\",token.is_punct,\n",
        "        \"like_num:\",token.like_num,\n",
        "        \"is_currency:\",token.is_currency,\n",
        "        \"Like_url:\",token.like_url\n",
        "        )"
      ],
      "metadata": {
        "colab": {
          "base_uri": "https://localhost:8080/"
        },
        "id": "XGKqN2coydEK",
        "outputId": "9bc8dc40-708f-47e0-8dcb-8dd44865554e"
      },
      "execution_count": 105,
      "outputs": [
        {
          "output_type": "stream",
          "name": "stdout",
          "text": [
            "the ==> 0 is_alpht: True is_punct: False like_num: False is_currency: False Like_url: False\n",
            "price ==> 1 is_alpht: True is_punct: False like_num: False is_currency: False Like_url: False\n",
            "is ==> 2 is_alpht: True is_punct: False like_num: False is_currency: False Like_url: False\n",
            "5000 ==> 3 is_alpht: False is_punct: False like_num: True is_currency: False Like_url: False\n",
            "$ ==> 4 is_alpht: False is_punct: False like_num: False is_currency: True Like_url: False\n",
            "visit ==> 5 is_alpht: True is_punct: False like_num: False is_currency: False Like_url: False\n",
            "https://www.price.com ==> 6 is_alpht: False is_punct: False like_num: False is_currency: False Like_url: True\n"
          ]
        }
      ]
    },
    {
      "cell_type": "code",
      "source": [
        "emails=\"ali@gmail.com,saad@gmail.com, asad@gmail.com,wahab@gmail.com\""
      ],
      "metadata": {
        "id": "NiX_e2ETy1eC"
      },
      "execution_count": 107,
      "outputs": []
    },
    {
      "cell_type": "code",
      "source": [
        "doc1=nlp1(emails)\n",
        "type(doc1)"
      ],
      "metadata": {
        "colab": {
          "base_uri": "https://localhost:8080/"
        },
        "id": "OkqfAoPK09Ty",
        "outputId": "3d61de82-3cf4-4eb0-d7c8-dcaa27e331db"
      },
      "execution_count": 111,
      "outputs": [
        {
          "output_type": "execute_result",
          "data": {
            "text/plain": [
              "spacy.tokens.doc.Doc"
            ]
          },
          "metadata": {},
          "execution_count": 111
        }
      ]
    },
    {
      "cell_type": "code",
      "source": [
        "email=[]\n",
        "print(len(email))\n",
        "for token in doc1:\n",
        "  if token.like_email:\n",
        "    email.append(token.text)\n",
        "email\n",
        ""
      ],
      "metadata": {
        "colab": {
          "base_uri": "https://localhost:8080/"
        },
        "id": "plIXGMLG1Fto",
        "outputId": "7539f7d5-fd66-47cc-cb58-f9760e8927b4"
      },
      "execution_count": 118,
      "outputs": [
        {
          "output_type": "stream",
          "name": "stdout",
          "text": [
            "0\n"
          ]
        },
        {
          "output_type": "execute_result",
          "data": {
            "text/plain": [
              "['ali@gmail.com,saad@gmail.com', 'asad@gmail.com,wahab@gmail.com']"
            ]
          },
          "metadata": {},
          "execution_count": 118
        }
      ]
    },
    {
      "cell_type": "code",
      "source": [
        "len(email)"
      ],
      "metadata": {
        "colab": {
          "base_uri": "https://localhost:8080/"
        },
        "id": "IqPkaxOS1eou",
        "outputId": "c6b4bcb4-963a-4e9b-ffe2-7b68ee459b4a"
      },
      "execution_count": 119,
      "outputs": [
        {
          "output_type": "execute_result",
          "data": {
            "text/plain": [
              "2"
            ]
          },
          "metadata": {},
          "execution_count": 119
        }
      ]
    },
    {
      "cell_type": "code",
      "source": [
        "sen=\"Brother! I had borrowed 5000$ INR, please return it.\"\n",
        "dc=nlp1(sen)\n",
        "type(dc)\n",
        "print(len(dc))"
      ],
      "metadata": {
        "colab": {
          "base_uri": "https://localhost:8080/"
        },
        "id": "KI2Zoetd2JTP",
        "outputId": "250abef3-9ed6-4edf-da40-c7f343034b05"
      },
      "execution_count": 125,
      "outputs": [
        {
          "output_type": "stream",
          "name": "stdout",
          "text": [
            "13\n"
          ]
        }
      ]
    },
    {
      "cell_type": "code",
      "source": [
        "for token in dc:\n",
        "  print(token,token.is_currency,token.like_num)"
      ],
      "metadata": {
        "colab": {
          "base_uri": "https://localhost:8080/"
        },
        "id": "cQaHcf_B28Ss",
        "outputId": "6ef9e47e-e55c-448e-fa0a-be5fbec2202d"
      },
      "execution_count": 127,
      "outputs": [
        {
          "output_type": "stream",
          "name": "stdout",
          "text": [
            "Brother False False\n",
            "! False False\n",
            "I False False\n",
            "had False False\n",
            "borrowed False False\n",
            "5000 False True\n",
            "$ True False\n",
            "INR False False\n",
            ", False False\n",
            "please False False\n",
            "return False False\n",
            "it False False\n",
            ". False False\n"
          ]
        }
      ]
    },
    {
      "cell_type": "code",
      "source": [
        "# token customization"
      ],
      "metadata": {
        "id": "iFSzdKrG3OJA"
      },
      "execution_count": 128,
      "outputs": []
    },
    {
      "cell_type": "code",
      "source": [
        "from spacy.symbols import ORTH"
      ],
      "metadata": {
        "id": "3MXu43f34Tzo"
      },
      "execution_count": 129,
      "outputs": []
    },
    {
      "cell_type": "code",
      "source": [
        "nlp=spacy.blank(\"en\")\n",
        "docu=nlp(\"giveme double burger\")\n",
        "for token in docu:\n",
        "  print(token)"
      ],
      "metadata": {
        "colab": {
          "base_uri": "https://localhost:8080/"
        },
        "id": "NKdhhjGh4ecv",
        "outputId": "08164774-cfbe-4e42-ba05-4f11eb4a7140"
      },
      "execution_count": 5,
      "outputs": [
        {
          "output_type": "stream",
          "name": "stdout",
          "text": [
            "giveme\n",
            "double\n",
            "burger\n"
          ]
        }
      ]
    },
    {
      "cell_type": "code",
      "source": [
        "tokens=[token.text for token in docu]\n",
        "tokens"
      ],
      "metadata": {
        "colab": {
          "base_uri": "https://localhost:8080/"
        },
        "id": "yNN8UCIO4lBC",
        "outputId": "9434eb4e-202e-496c-e540-a3e73e7a2a92"
      },
      "execution_count": 138,
      "outputs": [
        {
          "output_type": "execute_result",
          "data": {
            "text/plain": [
              "['giveme', 'double', 'burger']"
            ]
          },
          "metadata": {},
          "execution_count": 138
        }
      ]
    },
    {
      "cell_type": "code",
      "source": [
        "nlp.tokenizer.add_special_case(\"giveme\", [\n",
        "    {ORTH: \"give\"},\n",
        "    {ORTH: \"me\"},])\n",
        "doc=nlp(\"giveme double burger\")\n",
        "tokens=[token.text for token in doc]\n",
        "tokens"
      ],
      "metadata": {
        "colab": {
          "base_uri": "https://localhost:8080/"
        },
        "id": "wCXBpBpM5HbQ",
        "outputId": "a8f67bfc-ef2e-4f06-c414-fdb835989438"
      },
      "execution_count": 143,
      "outputs": [
        {
          "output_type": "execute_result",
          "data": {
            "text/plain": [
              "['give', 'me', 'double', 'burger']"
            ]
          },
          "metadata": {},
          "execution_count": 143
        }
      ]
    },
    {
      "cell_type": "code",
      "source": [
        "nlp=spacy.load('en_core_web_sm')\n",
        "txt=nlp(\"Dr.xyz love her patient.khan loves peshawar\")\n",
        "type(txt)"
      ],
      "metadata": {
        "colab": {
          "base_uri": "https://localhost:8080/"
        },
        "id": "Ba3WQGBE5lKI",
        "outputId": "7077c166-fba1-4a6d-9e41-5061a9aaaf42"
      },
      "execution_count": 13,
      "outputs": [
        {
          "output_type": "execute_result",
          "data": {
            "text/plain": [
              "spacy.tokens.doc.Doc"
            ]
          },
          "metadata": {},
          "execution_count": 13
        }
      ]
    },
    {
      "cell_type": "code",
      "source": [
        "for sentence in txt.sents:\n",
        "  print(sentence)"
      ],
      "metadata": {
        "colab": {
          "base_uri": "https://localhost:8080/"
        },
        "id": "3ngN8yuO8UPR",
        "outputId": "9c8b9722-bbbe-4718-c348-94266226fd5a"
      },
      "execution_count": 14,
      "outputs": [
        {
          "output_type": "stream",
          "name": "stdout",
          "text": [
            "Dr.xyz love her patient.khan loves peshawar\n"
          ]
        }
      ]
    },
    {
      "cell_type": "code",
      "source": [
        "nlp.pipeline"
      ],
      "metadata": {
        "colab": {
          "base_uri": "https://localhost:8080/"
        },
        "id": "FmJ_6P51891S",
        "outputId": "fbb333b7-045e-4138-ca5d-ae958d2a2568"
      },
      "execution_count": 15,
      "outputs": [
        {
          "output_type": "execute_result",
          "data": {
            "text/plain": [
              "[('tok2vec', <spacy.pipeline.tok2vec.Tok2Vec at 0x7c9a66b33040>),\n",
              " ('tagger', <spacy.pipeline.tagger.Tagger at 0x7c9a66b322c0>),\n",
              " ('parser', <spacy.pipeline.dep_parser.DependencyParser at 0x7c9a66b478b0>),\n",
              " ('attribute_ruler',\n",
              "  <spacy.pipeline.attributeruler.AttributeRuler at 0x7c9a740f4500>),\n",
              " ('lemmatizer',\n",
              "  <spacy.lang.en.lemmatizer.EnglishLemmatizer at 0x7c9a66ef7480>),\n",
              " ('ner', <spacy.pipeline.ner.EntityRecognizer at 0x7c9a66b47840>)]"
            ]
          },
          "metadata": {},
          "execution_count": 15
        }
      ]
    },
    {
      "cell_type": "code",
      "source": [
        "nlp.add_pipe('sentencizer')"
      ],
      "metadata": {
        "colab": {
          "base_uri": "https://localhost:8080/"
        },
        "id": "HlcwAlY-9GcM",
        "outputId": "1df5ecfa-cde0-4ceb-a0be-d03334349c4c"
      },
      "execution_count": 16,
      "outputs": [
        {
          "output_type": "execute_result",
          "data": {
            "text/plain": [
              "<spacy.pipeline.sentencizer.Sentencizer at 0x7c9a66ef6940>"
            ]
          },
          "metadata": {},
          "execution_count": 16
        }
      ]
    },
    {
      "cell_type": "code",
      "source": [
        "for sentence in txt.sents:\n",
        "  print(sentence)"
      ],
      "metadata": {
        "colab": {
          "base_uri": "https://localhost:8080/"
        },
        "id": "dxL5h5AQ9R4A",
        "outputId": "20289224-6c96-458d-fc8f-b3763ca3be5b"
      },
      "execution_count": 17,
      "outputs": [
        {
          "output_type": "stream",
          "name": "stdout",
          "text": [
            "Dr.xyz love her patient.khan loves peshawar\n"
          ]
        }
      ]
    },
    {
      "cell_type": "code",
      "source": [],
      "metadata": {
        "id": "EXmGmIPE9fpI"
      },
      "execution_count": null,
      "outputs": []
    }
  ]
}