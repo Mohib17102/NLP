{
  "nbformat": 4,
  "nbformat_minor": 0,
  "metadata": {
    "colab": {
      "provenance": []
    },
    "kernelspec": {
      "name": "python3",
      "display_name": "Python 3"
    },
    "language_info": {
      "name": "python"
    }
  },
  "cells": [
    {
      "cell_type": "code",
      "execution_count": 1,
      "metadata": {
        "id": "lHyTc98CYQDl"
      },
      "outputs": [],
      "source": [
        "import spacy"
      ]
    },
    {
      "cell_type": "code",
      "source": [
        "nlp=spacy.load(\"en_core_web_sm\")\n",
        "sent=nlp(\"adam smith flew to mars yesterday .He also visit some different area. can he return early?\")\n",
        "for tok in sent:\n",
        "  print(tok, \"|\",tok.pos_)"
      ],
      "metadata": {
        "colab": {
          "base_uri": "https://localhost:8080/"
        },
        "id": "kSyBr2_AYS5M",
        "outputId": "05f80036-b36e-4d38-d929-6a44072a9ef3"
      },
      "execution_count": 6,
      "outputs": [
        {
          "output_type": "stream",
          "name": "stdout",
          "text": [
            "adam | PROPN\n",
            "smith | PROPN\n",
            "flew | VERB\n",
            "to | ADP\n",
            "mars | NOUN\n",
            "yesterday | NOUN\n",
            ".He | PUNCT\n",
            "also | ADV\n",
            "visit | VERB\n",
            "some | DET\n",
            "different | ADJ\n",
            "area | NOUN\n",
            ". | PUNCT\n",
            "can | AUX\n",
            "he | PRON\n",
            "return | VERB\n",
            "early | ADV\n",
            "? | PUNCT\n"
          ]
        }
      ]
    },
    {
      "cell_type": "code",
      "source": [
        "sentence=nlp(\"One day i meet to his friends he is very happy because the got it high marks in his class \")\n",
        "for token in sentence:\n",
        "  print(token,\"|\",token.pos_,\"|\",spacy.explain(token.pos_))"
      ],
      "metadata": {
        "colab": {
          "base_uri": "https://localhost:8080/"
        },
        "id": "wsjP3wIjYtUL",
        "outputId": "868a74a8-dfb4-48f1-e670-f513f31a97a7"
      },
      "execution_count": 9,
      "outputs": [
        {
          "output_type": "stream",
          "name": "stdout",
          "text": [
            "One | NUM | numeral\n",
            "day | NOUN | noun\n",
            "i | PRON | pronoun\n",
            "meet | VERB | verb\n",
            "to | ADP | adposition\n",
            "his | PRON | pronoun\n",
            "friends | NOUN | noun\n",
            "he | PRON | pronoun\n",
            "is | AUX | auxiliary\n",
            "very | ADV | adverb\n",
            "happy | ADJ | adjective\n",
            "because | SCONJ | subordinating conjunction\n",
            "the | PRON | pronoun\n",
            "got | VERB | verb\n",
            "it | PRON | pronoun\n",
            "high | ADJ | adjective\n",
            "marks | NOUN | noun\n",
            "in | ADP | adposition\n",
            "his | PRON | pronoun\n",
            "class | NOUN | noun\n"
          ]
        }
      ]
    },
    {
      "cell_type": "code",
      "source": [
        "doc=nlp(\"Wow! Mr.ali made 265 mission 4  in one day of in his business. thats a very high achivement in his business quiality\")\n",
        "for token in doc:\n",
        "  print(token,\"|\",token.pos_,\"|\",spacy.explain(token.pos_),token.tag_, \" | \", spacy.explain(token.tag_))"
      ],
      "metadata": {
        "colab": {
          "base_uri": "https://localhost:8080/"
        },
        "id": "qQsQJEVbZptX",
        "outputId": "1c1e08b5-15fa-4cd2-89b0-50e4c598531e"
      },
      "execution_count": 10,
      "outputs": [
        {
          "output_type": "stream",
          "name": "stdout",
          "text": [
            "Wow | INTJ | interjection UH  |  interjection\n",
            "! | PROPN | proper noun NNP  |  noun, proper singular\n",
            "Mr.ali | PROPN | proper noun NNP  |  noun, proper singular\n",
            "made | VERB | verb VBD  |  verb, past tense\n",
            "265 | NUM | numeral CD  |  cardinal number\n",
            "mission | NOUN | noun NN  |  noun, singular or mass\n",
            "4 | NUM | numeral CD  |  cardinal number\n",
            "  | SPACE | space _SP  |  whitespace\n",
            "in | ADP | adposition IN  |  conjunction, subordinating or preposition\n",
            "one | NUM | numeral CD  |  cardinal number\n",
            "day | NOUN | noun NN  |  noun, singular or mass\n",
            "of | ADP | adposition IN  |  conjunction, subordinating or preposition\n",
            "in | ADP | adposition IN  |  conjunction, subordinating or preposition\n",
            "his | PRON | pronoun PRP$  |  pronoun, possessive\n",
            "business | NOUN | noun NN  |  noun, singular or mass\n",
            ". | PUNCT | punctuation .  |  punctuation mark, sentence closer\n",
            "that | PRON | pronoun DT  |  determiner\n",
            "s | VERB | verb VBZ  |  verb, 3rd person singular present\n",
            "a | DET | determiner DT  |  determiner\n",
            "very | ADV | adverb RB  |  adverb\n",
            "high | ADJ | adjective JJ  |  adjective (English), other noun-modifier (Chinese)\n",
            "achivement | NOUN | noun NN  |  noun, singular or mass\n",
            "in | ADP | adposition IN  |  conjunction, subordinating or preposition\n",
            "his | PRON | pronoun PRP$  |  pronoun, possessive\n",
            "business | NOUN | noun NN  |  noun, singular or mass\n",
            "quiality | NOUN | noun NN  |  noun, singular or mass\n"
          ]
        }
      ]
    },
    {
      "cell_type": "code",
      "source": [
        "# how to check that the sentence is past or present or other\n",
        "\n",
        "\n",
        "sent=nlp(\"we quits the  job\")\n",
        "\n",
        "print(sent[1].text,\"|\",doc[1].tag_,\"|\",spacy.explain(sent[1].tag_))"
      ],
      "metadata": {
        "colab": {
          "base_uri": "https://localhost:8080/"
        },
        "id": "585DJ2wMbl4H",
        "outputId": "f5cd3d44-c147-4c8b-9394-bf08e44c7985"
      },
      "execution_count": 17,
      "outputs": [
        {
          "output_type": "stream",
          "name": "stdout",
          "text": [
            "quits | NNP | verb, 3rd person singular present\n"
          ]
        }
      ]
    },
    {
      "cell_type": "code",
      "source": [
        "\n",
        "sent=nlp(\"we quits the  job\")\n",
        "for sen in sent:\n",
        "  print(sen.text,\"|\",sen.tag_,\"|\",spacy.explain(sen.tag_))"
      ],
      "metadata": {
        "colab": {
          "base_uri": "https://localhost:8080/"
        },
        "id": "ZYMVV3krcbPu",
        "outputId": "b09257a4-56d3-4cad-9993-24c51c52f00c"
      },
      "execution_count": 29,
      "outputs": [
        {
          "output_type": "stream",
          "name": "stdout",
          "text": [
            "we | PRP | pronoun, personal\n",
            "quits | VBZ | verb, 3rd person singular present\n",
            "the | DT | determiner\n",
            "  | _SP | whitespace\n",
            "job | NN | noun, singular or mass\n"
          ]
        }
      ]
    },
    {
      "cell_type": "code",
      "source": [
        "text=nlp(\"Apple Inc. (formerly Apple Computer, Inc.) is an American multinational corporation and technology company headquartered in Cupertino, California, in Silicon Valley. It designs, develops, and sells consumer electronics, computer software, and online services. Devices include the iPhone, iPad, Mac, Apple Watch, Vision Pro, and Apple TV; operating systems include iOS, iPadOS, and macOS; and software applications and services include iTunes, iCloud, Apple Music, and Apple TV+.As of March 2023, Apple was the world's largest company by market capitalization,[6] but it lost this position to Microsoft in January 2024.[7] In 2022, it was the largest technology company by revenue, with US$394.3 billion.[8] As of June 2022, Apple was the fourth-largest personal computer vendor by unit sales, the largest manufacturing company by revenue, and the second-largest manufacturer of mobile phones in the world. It is one of the Big Five American information technology companies, alongside Alphabet (the parent company of Google), Amazon, Meta (the parent company of Facebook), and Microsoft.\")\n",
        "doc=nlp(text)\n",
        "token_fil=[]\n",
        "for token in doc:\n",
        "  if token.pos_ not in [\"SPACE\",\"PUNT\",\"X\"]:\n",
        "    token_fil.append(token)"
      ],
      "metadata": {
        "id": "BamQHYpSdD3a"
      },
      "execution_count": 36,
      "outputs": []
    },
    {
      "cell_type": "code",
      "source": [
        "token_fil"
      ],
      "metadata": {
        "colab": {
          "base_uri": "https://localhost:8080/"
        },
        "id": "-FV6zo6oeqTf",
        "outputId": "bc3b53b4-65de-4f9f-cf07-d4401891d084"
      },
      "execution_count": 42,
      "outputs": [
        {
          "output_type": "execute_result",
          "data": {
            "text/plain": [
              "[Apple,\n",
              " Inc.,\n",
              " (,\n",
              " formerly,\n",
              " Apple,\n",
              " Computer,\n",
              " ,,\n",
              " Inc.,\n",
              " ),\n",
              " is,\n",
              " an,\n",
              " American,\n",
              " multinational,\n",
              " corporation,\n",
              " and,\n",
              " technology,\n",
              " company,\n",
              " headquartered,\n",
              " in,\n",
              " Cupertino,\n",
              " ,,\n",
              " California,\n",
              " ,,\n",
              " in,\n",
              " Silicon,\n",
              " Valley,\n",
              " .,\n",
              " It,\n",
              " designs,\n",
              " ,,\n",
              " develops,\n",
              " ,,\n",
              " and,\n",
              " sells,\n",
              " consumer,\n",
              " electronics,\n",
              " ,,\n",
              " computer,\n",
              " software,\n",
              " ,,\n",
              " and,\n",
              " online,\n",
              " services,\n",
              " .,\n",
              " Devices,\n",
              " include,\n",
              " the,\n",
              " iPhone,\n",
              " ,,\n",
              " iPad,\n",
              " ,,\n",
              " Mac,\n",
              " ,,\n",
              " Apple,\n",
              " Watch,\n",
              " ,,\n",
              " Vision,\n",
              " Pro,\n",
              " ,,\n",
              " and,\n",
              " Apple,\n",
              " TV,\n",
              " ;,\n",
              " operating,\n",
              " systems,\n",
              " include,\n",
              " iOS,\n",
              " ,,\n",
              " iPadOS,\n",
              " ,,\n",
              " and,\n",
              " macOS,\n",
              " ;,\n",
              " and,\n",
              " software,\n",
              " applications,\n",
              " and,\n",
              " services,\n",
              " include,\n",
              " iTunes,\n",
              " ,,\n",
              " iCloud,\n",
              " ,,\n",
              " Apple,\n",
              " Music,\n",
              " ,,\n",
              " and,\n",
              " Apple,\n",
              " TV+.As,\n",
              " of,\n",
              " March,\n",
              " 2023,\n",
              " ,,\n",
              " Apple,\n",
              " was,\n",
              " the,\n",
              " world,\n",
              " 's,\n",
              " largest,\n",
              " company,\n",
              " by,\n",
              " market,\n",
              " capitalization,[6,\n",
              " ],\n",
              " but,\n",
              " it,\n",
              " lost,\n",
              " this,\n",
              " position,\n",
              " to,\n",
              " Microsoft,\n",
              " in,\n",
              " January,\n",
              " 2024.[7,\n",
              " ],\n",
              " In,\n",
              " 2022,\n",
              " ,,\n",
              " it,\n",
              " was,\n",
              " the,\n",
              " largest,\n",
              " technology,\n",
              " company,\n",
              " by,\n",
              " revenue,\n",
              " ,,\n",
              " with,\n",
              " US$,\n",
              " 394.3,\n",
              " billion.[8,\n",
              " ],\n",
              " As,\n",
              " of,\n",
              " June,\n",
              " 2022,\n",
              " ,,\n",
              " Apple,\n",
              " was,\n",
              " the,\n",
              " fourth,\n",
              " -,\n",
              " largest,\n",
              " personal,\n",
              " computer,\n",
              " vendor,\n",
              " by,\n",
              " unit,\n",
              " sales,\n",
              " ,,\n",
              " the,\n",
              " largest,\n",
              " manufacturing,\n",
              " company,\n",
              " by,\n",
              " revenue,\n",
              " ,,\n",
              " and,\n",
              " the,\n",
              " second,\n",
              " -,\n",
              " largest,\n",
              " manufacturer,\n",
              " of,\n",
              " mobile,\n",
              " phones,\n",
              " in,\n",
              " the,\n",
              " world,\n",
              " .,\n",
              " It,\n",
              " is,\n",
              " one,\n",
              " of,\n",
              " the,\n",
              " Big,\n",
              " Five,\n",
              " American,\n",
              " information,\n",
              " technology,\n",
              " companies,\n",
              " ,,\n",
              " alongside,\n",
              " Alphabet,\n",
              " (,\n",
              " the,\n",
              " parent,\n",
              " company,\n",
              " of,\n",
              " Google,\n",
              " ),\n",
              " ,,\n",
              " Amazon,\n",
              " ,,\n",
              " Meta,\n",
              " (,\n",
              " the,\n",
              " parent,\n",
              " company,\n",
              " of,\n",
              " Facebook,\n",
              " ),\n",
              " ,,\n",
              " and,\n",
              " Microsoft,\n",
              " .]"
            ]
          },
          "metadata": {},
          "execution_count": 42
        }
      ]
    },
    {
      "cell_type": "code",
      "source": [
        "count=doc.count_by(spacy.attrs.POS)"
      ],
      "metadata": {
        "id": "ZQzX1pswgs1d"
      },
      "execution_count": 43,
      "outputs": []
    },
    {
      "cell_type": "code",
      "source": [
        "count"
      ],
      "metadata": {
        "colab": {
          "base_uri": "https://localhost:8080/"
        },
        "id": "TRb_S5vHhL8G",
        "outputId": "cbd39239-4ab7-4fa0-8074-533d16ca9009"
      },
      "execution_count": 44,
      "outputs": [
        {
          "output_type": "execute_result",
          "data": {
            "text/plain": [
              "{96: 41,\n",
              " 97: 44,\n",
              " 86: 3,\n",
              " 87: 5,\n",
              " 90: 12,\n",
              " 84: 11,\n",
              " 92: 38,\n",
              " 89: 11,\n",
              " 100: 8,\n",
              " 85: 19,\n",
              " 95: 4,\n",
              " 93: 8,\n",
              " 94: 1,\n",
              " 99: 1}"
            ]
          },
          "metadata": {},
          "execution_count": 44
        }
      ]
    },
    {
      "cell_type": "code",
      "source": [
        "doc.vocab[96].text"
      ],
      "metadata": {
        "colab": {
          "base_uri": "https://localhost:8080/",
          "height": 35
        },
        "id": "JrkW7FMshNAW",
        "outputId": "8d927d1a-0e27-4b11-f342-3a00ec35c9f6"
      },
      "execution_count": 45,
      "outputs": [
        {
          "output_type": "execute_result",
          "data": {
            "text/plain": [
              "'PROPN'"
            ],
            "application/vnd.google.colaboratory.intrinsic+json": {
              "type": "string"
            }
          },
          "metadata": {},
          "execution_count": 45
        }
      ]
    },
    {
      "cell_type": "code",
      "source": [
        "for k,v in count.items():\n",
        "  print(doc.vocab[k].text,\"|\",v)"
      ],
      "metadata": {
        "colab": {
          "base_uri": "https://localhost:8080/"
        },
        "id": "duZKZqGChbEe",
        "outputId": "5ea443b3-df95-4b5d-e97b-87c268a41e00"
      },
      "execution_count": 46,
      "outputs": [
        {
          "output_type": "stream",
          "name": "stdout",
          "text": [
            "PROPN | 41\n",
            "PUNCT | 44\n",
            "ADV | 3\n",
            "AUX | 5\n",
            "DET | 12\n",
            "ADJ | 11\n",
            "NOUN | 38\n",
            "CCONJ | 11\n",
            "VERB | 8\n",
            "ADP | 19\n",
            "PRON | 4\n",
            "NUM | 8\n",
            "PART | 1\n",
            "SYM | 1\n"
          ]
        }
      ]
    },
    {
      "cell_type": "code",
      "source": [],
      "metadata": {
        "id": "I51WmNWMhm5k"
      },
      "execution_count": null,
      "outputs": []
    }
  ]
}