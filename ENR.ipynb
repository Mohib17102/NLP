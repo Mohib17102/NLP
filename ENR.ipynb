{
  "nbformat": 4,
  "nbformat_minor": 0,
  "metadata": {
    "colab": {
      "provenance": [],
      "gpuType": "T4"
    },
    "kernelspec": {
      "name": "python3",
      "display_name": "Python 3"
    },
    "language_info": {
      "name": "python"
    },
    "accelerator": "GPU"
  },
  "cells": [
    {
      "cell_type": "code",
      "execution_count": 3,
      "metadata": {
        "id": "qMP15euah1Al"
      },
      "outputs": [],
      "source": [
        "import spacy\n"
      ]
    },
    {
      "cell_type": "code",
      "source": [
        "nlp=spacy.load(\"en_core_web_sm\")\n",
        "nlp.pipe_names"
      ],
      "metadata": {
        "colab": {
          "base_uri": "https://localhost:8080/"
        },
        "id": "-MEpu5ZriB9O",
        "outputId": "08b458d1-53e0-4f4b-a1a1-91dbb7061b75"
      },
      "execution_count": 4,
      "outputs": [
        {
          "output_type": "execute_result",
          "data": {
            "text/plain": [
              "['tok2vec', 'tagger', 'parser', 'attribute_ruler', 'lemmatizer', 'ner']"
            ]
          },
          "metadata": {},
          "execution_count": 4
        }
      ]
    },
    {
      "cell_type": "code",
      "source": [
        "doc=nlp(\"Microsoft xp is going to gain high performance in early day of invention\")\n",
        "for token in doc.ents:\n",
        "  print(token.text,\"|\",token.label_,\"|\",spacy.explain(token.label_))"
      ],
      "metadata": {
        "colab": {
          "base_uri": "https://localhost:8080/"
        },
        "id": "OnS-VtS4iMVX",
        "outputId": "7e941059-2770-49c4-d7c3-f37cb75a087d"
      },
      "execution_count": 5,
      "outputs": [
        {
          "output_type": "stream",
          "name": "stdout",
          "text": [
            "Microsoft | ORG | Companies, agencies, institutions, etc.\n",
            "early day | DATE | Absolute or relative dates or periods\n"
          ]
        }
      ]
    },
    {
      "cell_type": "code",
      "source": [
        "from spacy import displacy"
      ],
      "metadata": {
        "id": "L87QnaVRig7X"
      },
      "execution_count": 6,
      "outputs": []
    },
    {
      "cell_type": "code",
      "source": [
        "displacy.render(doc,style=\"ent\")"
      ],
      "metadata": {
        "colab": {
          "base_uri": "https://localhost:8080/",
          "height": 52
        },
        "id": "-m38B6yajCmR",
        "outputId": "f8dd25ee-680f-44b6-d867-798c10897d53"
      },
      "execution_count": 7,
      "outputs": [
        {
          "output_type": "display_data",
          "data": {
            "text/plain": [
              "<IPython.core.display.HTML object>"
            ],
            "text/html": [
              "<span class=\"tex2jax_ignore\"><div class=\"entities\" style=\"line-height: 2.5; direction: ltr\">\n",
              "<mark class=\"entity\" style=\"background: #7aecec; padding: 0.45em 0.6em; margin: 0 0.25em; line-height: 1; border-radius: 0.35em;\">\n",
              "    Microsoft\n",
              "    <span style=\"font-size: 0.8em; font-weight: bold; line-height: 1; border-radius: 0.35em; vertical-align: middle; margin-left: 0.5rem\">ORG</span>\n",
              "</mark>\n",
              " xp is going to gain high performance in \n",
              "<mark class=\"entity\" style=\"background: #bfe1d9; padding: 0.45em 0.6em; margin: 0 0.25em; line-height: 1; border-radius: 0.35em;\">\n",
              "    early day\n",
              "    <span style=\"font-size: 0.8em; font-weight: bold; line-height: 1; border-radius: 0.35em; vertical-align: middle; margin-left: 0.5rem\">DATE</span>\n",
              "</mark>\n",
              " of invention</div></span>"
            ]
          },
          "metadata": {}
        }
      ]
    },
    {
      "cell_type": "code",
      "source": [
        "# below is the list of all entities\n",
        "\n",
        "\n",
        "nlp.pipe_labels['ner']"
      ],
      "metadata": {
        "colab": {
          "base_uri": "https://localhost:8080/"
        },
        "id": "_AyG2r_CjHvr",
        "outputId": "39ccc9ee-0677-460b-8994-48d1b001f83c"
      },
      "execution_count": 8,
      "outputs": [
        {
          "output_type": "execute_result",
          "data": {
            "text/plain": [
              "['CARDINAL',\n",
              " 'DATE',\n",
              " 'EVENT',\n",
              " 'FAC',\n",
              " 'GPE',\n",
              " 'LANGUAGE',\n",
              " 'LAW',\n",
              " 'LOC',\n",
              " 'MONEY',\n",
              " 'NORP',\n",
              " 'ORDINAL',\n",
              " 'ORG',\n",
              " 'PERCENT',\n",
              " 'PERSON',\n",
              " 'PRODUCT',\n",
              " 'QUANTITY',\n",
              " 'TIME',\n",
              " 'WORK_OF_ART']"
            ]
          },
          "metadata": {},
          "execution_count": 8
        }
      ]
    },
    {
      "cell_type": "code",
      "source": [
        "\n",
        "\n",
        "doc=nlp(\"barak obama is the 44th president of America he is the fist black african man \")\n",
        "for ent in doc.ents:\n",
        "\n",
        "  print(ent.text,\"|\",ent.label_,\"|\",spacy.explain(ent.label_))\n",
        "\n",
        ""
      ],
      "metadata": {
        "colab": {
          "base_uri": "https://localhost:8080/"
        },
        "id": "kI6nD_spjZSm",
        "outputId": "8d188c26-8296-4d5b-d99f-b670edc595e4"
      },
      "execution_count": 10,
      "outputs": [
        {
          "output_type": "stream",
          "name": "stdout",
          "text": [
            "barak obama | PERSON | People, including fictional\n",
            "44th | ORDINAL | \"first\", \"second\", etc.\n",
            "America | GPE | Countries, cities, states\n",
            "african | NORP | Nationalities or religious or political groups\n"
          ]
        }
      ]
    },
    {
      "cell_type": "code",
      "source": [
        "\n",
        "doc=nlp(\"Tesla inc is going to acquire twitter in for $45 billion\")\n",
        "for ent in doc.ents:\n",
        "  print(ent.text,\"|\",ent.label_,\"|\",ent.start_char,\"|\",ent.end_char)\n",
        "  for ent in doc:\n",
        "    print(ent.text, \"| Start:\", ent.idx, \"| End:\", ent.idx + len(ent.text))\n",
        "\n",
        ""
      ],
      "metadata": {
        "colab": {
          "base_uri": "https://localhost:8080/"
        },
        "id": "u0NIrDx5j21K",
        "outputId": "1f1852ac-961b-47fb-8409-ebb71e4ac148"
      },
      "execution_count": 16,
      "outputs": [
        {
          "output_type": "stream",
          "name": "stdout",
          "text": [
            "Tesla inc | ORG | 0 | 9\n",
            "Tesla | Start: 0 | End: 5\n",
            "inc | Start: 6 | End: 9\n",
            "is | Start: 10 | End: 12\n",
            "going | Start: 13 | End: 18\n",
            "to | Start: 19 | End: 21\n",
            "acquire | Start: 22 | End: 29\n",
            "twitter | Start: 30 | End: 37\n",
            "in | Start: 38 | End: 40\n",
            "for | Start: 41 | End: 44\n",
            "$ | Start: 45 | End: 46\n",
            "45 | Start: 46 | End: 48\n",
            "billion | Start: 49 | End: 56\n",
            "$45 billion | MONEY | 45 | 56\n",
            "Tesla | Start: 0 | End: 5\n",
            "inc | Start: 6 | End: 9\n",
            "is | Start: 10 | End: 12\n",
            "going | Start: 13 | End: 18\n",
            "to | Start: 19 | End: 21\n",
            "acquire | Start: 22 | End: 29\n",
            "twitter | Start: 30 | End: 37\n",
            "in | Start: 38 | End: 40\n",
            "for | Start: 41 | End: 44\n",
            "$ | Start: 45 | End: 46\n",
            "45 | Start: 46 | End: 48\n",
            "billion | Start: 49 | End: 56\n"
          ]
        }
      ]
    },
    {
      "cell_type": "code",
      "source": [
        "import spacy\n",
        "\n",
        "nlp = spacy.load(\"en_core_web_sm\")\n",
        "doc = nlp(\"Tesla Inc is going to acquire Twitter for $45 billion\")\n",
        "\n",
        "# Iterate through tokens and print text with character indices\n",
        "for token in doc:\n",
        "    print(token.text, \"| Start:\", token.idx, \"| End:\", token.idx + len(token.text))\n"
      ],
      "metadata": {
        "colab": {
          "base_uri": "https://localhost:8080/"
        },
        "id": "JI5yfhVplvcW",
        "outputId": "29e7f7bc-de37-4115-e4d1-98c3b5e22424"
      },
      "execution_count": 13,
      "outputs": [
        {
          "output_type": "stream",
          "name": "stderr",
          "text": [
            "/usr/local/lib/python3.10/dist-packages/spacy/util.py:1740: UserWarning: [W111] Jupyter notebook detected: if using `prefer_gpu()` or `require_gpu()`, include it in the same cell right before `spacy.load()` to ensure that the model is loaded on the correct device. More information: http://spacy.io/usage/v3#jupyter-notebook-gpu\n",
            "  warnings.warn(Warnings.W111)\n"
          ]
        },
        {
          "output_type": "stream",
          "name": "stdout",
          "text": [
            "Tesla | Start: 0 | End: 5\n",
            "Inc | Start: 6 | End: 9\n",
            "is | Start: 10 | End: 12\n",
            "going | Start: 13 | End: 18\n",
            "to | Start: 19 | End: 21\n",
            "acquire | Start: 22 | End: 29\n",
            "Twitter | Start: 30 | End: 37\n",
            "for | Start: 38 | End: 41\n",
            "$ | Start: 42 | End: 43\n",
            "45 | Start: 43 | End: 45\n",
            "billion | Start: 46 | End: 53\n"
          ]
        }
      ]
    },
    {
      "cell_type": "code",
      "source": [
        "from spacy.tokens import Span\n",
        "sps=Span(doc,0,1,label='ORG')\n",
        "spa=Span(doc,5,6,label='ORG')\n",
        "\n",
        "doc.set_ents([sps,spa],default=\"unmodified\")\n",
        "for ent in doc.ents:\n",
        "  print(ent.text,\"|\",ent.label_)"
      ],
      "metadata": {
        "colab": {
          "base_uri": "https://localhost:8080/"
        },
        "id": "qRpwrY7goE0N",
        "outputId": "3312445b-ba03-424b-e1d9-09e9056b4554"
      },
      "execution_count": 21,
      "outputs": [
        {
          "output_type": "stream",
          "name": "stdout",
          "text": [
            "Tesla inc | ORG\n",
            "acquire | ORG\n",
            "$45 billion | MONEY\n"
          ]
        }
      ]
    },
    {
      "cell_type": "code",
      "source": [],
      "metadata": {
        "id": "XWC3RZm2pDj2"
      },
      "execution_count": 21,
      "outputs": []
    },
    {
      "cell_type": "code",
      "source": [],
      "metadata": {
        "id": "v_9cK2ODplj_"
      },
      "execution_count": null,
      "outputs": []
    }
  ]
}