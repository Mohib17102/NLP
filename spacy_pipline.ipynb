{
  "nbformat": 4,
  "nbformat_minor": 0,
  "metadata": {
    "colab": {
      "provenance": [],
      "gpuType": "T4"
    },
    "kernelspec": {
      "name": "python3",
      "display_name": "Python 3"
    },
    "language_info": {
      "name": "python"
    },
    "accelerator": "GPU"
  },
  "cells": [
    {
      "cell_type": "code",
      "execution_count": 1,
      "metadata": {
        "id": "H_q7PxDDjP0B"
      },
      "outputs": [],
      "source": [
        "import spacy"
      ]
    },
    {
      "cell_type": "code",
      "source": [
        "nlp=spacy.blank('en')"
      ],
      "metadata": {
        "id": "_iHrjHWsjWNU"
      },
      "execution_count": 2,
      "outputs": []
    },
    {
      "cell_type": "code",
      "source": [
        "doc=nlp(\"A man that buy shoes his price is 300$. and he said that this shoes i did not like. \")\n",
        "type(doc)\n",
        "for token in doc:\n",
        "  print(token)"
      ],
      "metadata": {
        "colab": {
          "base_uri": "https://localhost:8080/"
        },
        "id": "Bb5lXYxsjeDv",
        "outputId": "cc32976c-b5c2-44e0-d0d8-622a9a15aa36"
      },
      "execution_count": 5,
      "outputs": [
        {
          "output_type": "stream",
          "name": "stdout",
          "text": [
            "A\n",
            "man\n",
            "that\n",
            "buy\n",
            "shoes\n",
            "his\n",
            "price\n",
            "is\n",
            "300$.\n",
            "and\n",
            "he\n",
            "said\n",
            "that\n",
            "this\n",
            "shoes\n",
            "i\n",
            "did\n",
            "not\n",
            "like\n",
            ".\n"
          ]
        }
      ]
    },
    {
      "cell_type": "code",
      "source": [
        "nlp.pipe_names"
      ],
      "metadata": {
        "colab": {
          "base_uri": "https://localhost:8080/"
        },
        "id": "MXesOKjwj7bB",
        "outputId": "ebd37ceb-0e8f-47c1-9211-da50c3fbcdac"
      },
      "execution_count": 6,
      "outputs": [
        {
          "output_type": "execute_result",
          "data": {
            "text/plain": [
              "[]"
            ]
          },
          "metadata": {},
          "execution_count": 6
        }
      ]
    },
    {
      "cell_type": "code",
      "source": [
        "nlp=spacy.load(\"en_core_web_sm\")\n",
        "nlp.pipe_names"
      ],
      "metadata": {
        "colab": {
          "base_uri": "https://localhost:8080/"
        },
        "id": "PNa15fREkxls",
        "outputId": "14678ad3-8c09-4d5c-a426-27f239078927"
      },
      "execution_count": 11,
      "outputs": [
        {
          "output_type": "execute_result",
          "data": {
            "text/plain": [
              "['tok2vec', 'tagger', 'parser', 'attribute_ruler', 'lemmatizer', 'ner']"
            ]
          },
          "metadata": {},
          "execution_count": 11
        }
      ]
    },
    {
      "cell_type": "code",
      "source": [
        "nlp.pipeline\n"
      ],
      "metadata": {
        "colab": {
          "base_uri": "https://localhost:8080/"
        },
        "id": "1YDFY0IaltHN",
        "outputId": "1c8d04c8-5f4d-4e71-ab6d-25119fe5e795"
      },
      "execution_count": 12,
      "outputs": [
        {
          "output_type": "execute_result",
          "data": {
            "text/plain": [
              "[('tok2vec', <spacy.pipeline.tok2vec.Tok2Vec at 0x7ce6499c7dc0>),\n",
              " ('tagger', <spacy.pipeline.tagger.Tagger at 0x7ce6499c4d60>),\n",
              " ('parser', <spacy.pipeline.dep_parser.DependencyParser at 0x7ce64017b840>),\n",
              " ('attribute_ruler',\n",
              "  <spacy.pipeline.attributeruler.AttributeRuler at 0x7ce6482eca80>),\n",
              " ('lemmatizer',\n",
              "  <spacy.lang.en.lemmatizer.EnglishLemmatizer at 0x7ce5d8fe7ec0>),\n",
              " ('ner', <spacy.pipeline.ner.EntityRecognizer at 0x7ce64017b7d0>)]"
            ]
          },
          "metadata": {},
          "execution_count": 12
        }
      ]
    },
    {
      "cell_type": "code",
      "source": [
        "doc=nlp(\"A man that buy shoes his price is 300$. and he said that this shoes i did not like. \")\n",
        "for token in doc:\n",
        "  print(token,\"|\",spacy.explain(token.pos_),\"|\",token.lemma)"
      ],
      "metadata": {
        "colab": {
          "base_uri": "https://localhost:8080/"
        },
        "id": "PNVT1atDmEDc",
        "outputId": "db87efa2-795e-43e4-992b-9d164033f064"
      },
      "execution_count": 13,
      "outputs": [
        {
          "output_type": "stream",
          "name": "stdout",
          "text": [
            "A | determiner | 11901859001352538922\n",
            "man | noun | 3104811030673030468\n",
            "that | pronoun | 4380130941430378203\n",
            "buy | verb | 9457496526477982497\n",
            "shoes | noun | 12623266062479156681\n",
            "his | pronoun | 2661093235354845946\n",
            "price | noun | 10375657863284908246\n",
            "is | auxiliary | 10382539506755952630\n",
            "300$. | numeral | 11759446843852110766\n",
            "and | coordinating conjunction | 2283656566040971221\n",
            "he | pronoun | 1655312771067108281\n",
            "said | verb | 8685289367999165211\n",
            "that | subordinating conjunction | 4380130941430378203\n",
            "this | determiner | 1995909169258310477\n",
            "shoes | noun | 12623266062479156681\n",
            "i | pronoun | 4690420944186131903\n",
            "did | auxiliary | 2158845516055552166\n",
            "not | particle | 447765159362469301\n",
            "like | verb | 18194338103975822726\n",
            ". | punctuation | 12646065887601541794\n"
          ]
        }
      ]
    },
    {
      "cell_type": "code",
      "source": [
        "# NAME ENTITY RECOGNITION\n",
        "\n",
        "doc=nlp(\"tesla Inc is going to lunch new series and his price is $2000\")\n",
        "for ent in doc.ents:\n",
        "  print(ent.text,ent.label_)"
      ],
      "metadata": {
        "colab": {
          "base_uri": "https://localhost:8080/"
        },
        "id": "54TdoAKqmotf",
        "outputId": "a80fecff-42f0-4550-b7f3-a66125486786"
      },
      "execution_count": 17,
      "outputs": [
        {
          "output_type": "stream",
          "name": "stdout",
          "text": [
            "tesla Inc ORG\n",
            "2000 MONEY\n"
          ]
        }
      ]
    },
    {
      "cell_type": "code",
      "source": [
        "from spacy import displacy\n",
        "\n",
        "displacy.render(doc,style=\"ent\")"
      ],
      "metadata": {
        "colab": {
          "base_uri": "https://localhost:8080/",
          "height": 52
        },
        "id": "R9CFSK1unWAv",
        "outputId": "142a0c58-f9b2-43ed-eba5-d6834dddd8d2"
      },
      "execution_count": 19,
      "outputs": [
        {
          "output_type": "display_data",
          "data": {
            "text/plain": [
              "<IPython.core.display.HTML object>"
            ],
            "text/html": [
              "<span class=\"tex2jax_ignore\"><div class=\"entities\" style=\"line-height: 2.5; direction: ltr\">\n",
              "<mark class=\"entity\" style=\"background: #7aecec; padding: 0.45em 0.6em; margin: 0 0.25em; line-height: 1; border-radius: 0.35em;\">\n",
              "    tesla Inc\n",
              "    <span style=\"font-size: 0.8em; font-weight: bold; line-height: 1; border-radius: 0.35em; vertical-align: middle; margin-left: 0.5rem\">ORG</span>\n",
              "</mark>\n",
              " is going to lunch new series and his price is $\n",
              "<mark class=\"entity\" style=\"background: #e4e7d2; padding: 0.45em 0.6em; margin: 0 0.25em; line-height: 1; border-radius: 0.35em;\">\n",
              "    2000\n",
              "    <span style=\"font-size: 0.8em; font-weight: bold; line-height: 1; border-radius: 0.35em; vertical-align: middle; margin-left: 0.5rem\">MONEY</span>\n",
              "</mark>\n",
              "</div></span>"
            ]
          },
          "metadata": {}
        }
      ]
    },
    {
      "cell_type": "code",
      "source": [
        "source_nlp=spacy.load(\"en_core_web_sm\")\n",
        "nlp=spacy.blank('en')\n",
        "nlp.add_pipe(\"ner\",source=source_nlp)\n",
        "nlp.pipe_names"
      ],
      "metadata": {
        "colab": {
          "base_uri": "https://localhost:8080/"
        },
        "id": "5qWErmm5nzpS",
        "outputId": "334cbfa4-ebd4-4a22-d586-4cc6f23bed45"
      },
      "execution_count": 22,
      "outputs": [
        {
          "output_type": "stream",
          "name": "stderr",
          "text": [
            "/usr/local/lib/python3.10/dist-packages/spacy/util.py:1740: UserWarning: [W111] Jupyter notebook detected: if using `prefer_gpu()` or `require_gpu()`, include it in the same cell right before `spacy.load()` to ensure that the model is loaded on the correct device. More information: http://spacy.io/usage/v3#jupyter-notebook-gpu\n",
            "  warnings.warn(Warnings.W111)\n"
          ]
        },
        {
          "output_type": "execute_result",
          "data": {
            "text/plain": [
              "['ner']"
            ]
          },
          "metadata": {},
          "execution_count": 22
        }
      ]
    },
    {
      "cell_type": "code",
      "source": [
        "ds=nlp(\"Microsoft is going ot require twitter for $3 billion\")\n",
        "for tok in ds.ents:\n",
        "  print(tok.text,tok.label_)"
      ],
      "metadata": {
        "colab": {
          "base_uri": "https://localhost:8080/"
        },
        "id": "8r1OcxZ_ojJE",
        "outputId": "e799ebdb-f023-44ab-de90-a3d098b503eb"
      },
      "execution_count": 29,
      "outputs": [
        {
          "output_type": "stream",
          "name": "stdout",
          "text": [
            "Microsoft ORG\n",
            "$3 billion MONEY\n"
          ]
        }
      ]
    },
    {
      "cell_type": "code",
      "source": [],
      "metadata": {
        "id": "DcVoUOIuov9H"
      },
      "execution_count": null,
      "outputs": []
    }
  ]
}